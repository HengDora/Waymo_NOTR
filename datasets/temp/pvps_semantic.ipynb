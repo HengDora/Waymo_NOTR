{
 "cells": [
  {
   "cell_type": "code",
   "execution_count": null,
   "id": "6e18fbb5",
   "metadata": {},
   "outputs": [],
   "source": [
    "!pip3 install waymo-open-dataset-tf-2-12-0==1.6.7\n",
    "\n",
    "# 下载deeplab2安装脚本并添加执行权限\n",
    "!wget https://raw.githubusercontent.com/waymo-research/waymo-open-dataset/master/src/waymo_open_dataset/pip_pkg_scripts/install_deeplab2.sh\n",
    "!chmod +x install_deeplab2.sh\n",
    "!./install_deeplab2.sh"
   ]
  },
  {
   "cell_type": "code",
   "execution_count": 13,
   "id": "2ed17239",
   "metadata": {},
   "outputs": [],
   "source": [
    "import os\n",
    "from typing import Any, List, Sequence, Tuple, Optional, Iterator, Dict\n",
    "import immutabledict\n",
    "import matplotlib.pyplot as plt\n",
    "import tensorflow as tf\n",
    "import multiprocessing as mp\n",
    "import numpy as np\n",
    "import dask.dataframe as dd\n",
    "from PIL import Image\n",
    "from tqdm import tqdm\n",
    "from rich.console import Console\n",
    "from rich.rule import Rule\n",
    "\n",
    "if not tf.executing_eagerly():\n",
    "  tf.compat.v1.enable_eager_execution()\n",
    "\n",
    "from waymo_open_dataset import v2\n",
    "from waymo_open_dataset import dataset_pb2 as open_dataset\n",
    "from waymo_open_dataset.protos import camera_segmentation_metrics_pb2 as metrics_pb2\n",
    "from waymo_open_dataset.protos import camera_segmentation_submission_pb2 as submission_pb2\n",
    "from waymo_open_dataset.wdl_limited.camera_segmentation import camera_segmentation_metrics\n",
    "from waymo_open_dataset.utils import camera_segmentation_utils"
   ]
  },
  {
   "cell_type": "code",
   "execution_count": 18,
   "id": "5b2c245f",
   "metadata": {},
   "outputs": [],
   "source": [
    "def process_waymo_tfrecord(tfrecord_path: str, output_dir: str, save_visualization: bool = True):\n",
    "    \"\"\"\n",
    "    处理单个Waymo PVPS tfrecord文件，提取原始图像和语义标签。\n",
    "\n",
    "    Args:\n",
    "        tfrecord_path (str): 输入的 .tfrecord 文件的完整路径。\n",
    "        output_dir (str): 保存输出数据的根目录。\n",
    "        save_visualization (bool, optional): 是否同时保存彩色的可视化语义图。默认为 True。\n",
    "    \"\"\"\n",
    "    # 定义相机名称到数字后缀的映射\n",
    "    camera_name_map = {\n",
    "        'FRONT': '0',\n",
    "        'FRONT_LEFT': '1',\n",
    "        'FRONT_RIGHT': '2',\n",
    "        'SIDE_LEFT': '3',  # 已根据Waymo标准修正了您提到的'SIDE_LERF'\n",
    "        'SIDE_RIGHT': '4'\n",
    "    }\n",
    "\n",
    "    # 打印处理开始信息\n",
    "    filename = os.path.basename(tfrecord_path)\n",
    "    console.print(Rule(f\"[bold blue]正在处理: {filename}\", style=\"blue\"))\n",
    "    \n",
    "    # 创建输出目录\n",
    "    #raw_images_dir = os.path.join(output_dir, 'images')\n",
    "    semantic_labels_dir = os.path.join(output_dir, 'labels')\n",
    "    #os.makedirs(raw_images_dir, exist_ok=True)\n",
    "    os.makedirs(semantic_labels_dir, exist_ok=True)\n",
    "    \n",
    "    if save_visualization:\n",
    "        visualization_dir = os.path.join(output_dir, 'visualizations')\n",
    "        os.makedirs(visualization_dir, exist_ok=True)\n",
    "\n",
    "    # 加载数据集并使用tqdm创建进度条\n",
    "    dataset = tf.data.TFRecordDataset(tfrecord_path, compression_type='')\n",
    "    \n",
    "    # --- 这里是新增的修改 ---\n",
    "    # 1. 为了tqdm能显示总数，我们先快速遍历一次数据集来计算总长度\n",
    "    #    这会消耗一点初始时间，但能提供更好的用户体验。\n",
    "    try:\n",
    "        #console.print(\"[grey50]正在计算总帧数...[/grey50]\")\n",
    "        total_frames = sum(1 for _ in dataset)\n",
    "        # 2. 重新创建数据集迭代器，因为上一步已经将其耗尽\n",
    "        dataset = tf.data.TFRecordDataset(tfrecord_path, compression_type='')\n",
    "    except Exception as e:\n",
    "        console.print(f\"[yellow]警告：无法计算总帧数 ({e})，进度条将不显示总进度。[/yellow]\")\n",
    "        total_frames = None # 如果计算失败，则回退到无总数模式\n",
    "    # --- 修改结束 ---\n",
    "\n",
    "    # 3. 在tqdm中传入计算出的 total_frames\n",
    "    for data in tqdm(dataset, total=total_frames, desc=f\"处理帧\", unit=\"frame\"):\n",
    "        frame = open_dataset.Frame()\n",
    "        frame.ParseFromString(data.numpy())\n",
    "\n",
    "        # 检查该帧是否包含分割标签\n",
    "        if not frame.images[0].camera_segmentation_label.panoptic_label:\n",
    "            continue\n",
    "\n",
    "        # 遍历该帧中的所有摄像头图像\n",
    "        for image_proto in frame.images:\n",
    "            camera_name_str = open_dataset.CameraName.Name.Name(image_proto.name)\n",
    "            \n",
    "            # 如果相机名称不在我们的映射中，则跳过\n",
    "            if camera_name_str not in camera_name_map:\n",
    "                continue\n",
    "\n",
    "            # 1. 构建新的文件名\n",
    "            timestamp = frame.timestamp_micros\n",
    "            camera_code = camera_name_map[camera_name_str]\n",
    "            base_filename = f\"{timestamp}_{camera_code}\"\n",
    "            \n",
    "            # 2. 提取并保存原始图像\n",
    "            #image_bytes = image_proto.image\n",
    "            #image_path = os.path.join(raw_images_dir, f\"{base_filename}.png\")\n",
    "            #with open(image_path, 'wb') as f:\n",
    "            #    f.write(image_bytes)\n",
    "\n",
    "            # 3. 解码并分离语义标签\n",
    "            panoptic_label_proto = image_proto.camera_segmentation_label\n",
    "            panoptic_label = camera_segmentation_utils.decode_single_panoptic_label_from_proto(\n",
    "                panoptic_label_proto\n",
    "            )\n",
    "            semantic_label, instance_label = camera_segmentation_utils.decode_semantic_and_instance_labels_from_panoptic_label(\n",
    "                panoptic_label,\n",
    "                panoptic_label_proto.panoptic_label_divisor\n",
    "            )\n",
    "            semantic_label_2d = np.squeeze(semantic_label, axis=-1)\n",
    "\n",
    "            # 4. 保存单通道语义标签图\n",
    "            label_path = os.path.join(semantic_labels_dir, f\"{base_filename}.png\")\n",
    "            pil_image = Image.fromarray(semantic_label_2d.astype(np.uint8))\n",
    "            pil_image.save(label_path)\n",
    "\n",
    "            # 5. (可选) 保存彩色可视化图\n",
    "            if save_visualization:\n",
    "                panoptic_label_rgb = camera_segmentation_utils.panoptic_label_to_rgb(\n",
    "                    semantic_label, instance_label\n",
    "                )\n",
    "                vis_path = os.path.join(visualization_dir, f\"{base_filename}.png\")\n",
    "                pil_vis_image = Image.fromarray(panoptic_label_rgb)\n",
    "                pil_vis_image.save(vis_path)\n"
   ]
  },
  {
   "cell_type": "code",
   "execution_count": 28,
   "id": "fb000499",
   "metadata": {},
   "outputs": [
    {
     "data": {
      "text/html": [
       "<pre style=\"white-space:pre;overflow-x:auto;line-height:normal;font-family:Menlo,'DejaVu Sans Mono',consolas,'Courier New',monospace\"><span style=\"color: #808000; text-decoration-color: #808000\">──────────────────────────────────────────────── </span><span style=\"color: #808000; text-decoration-color: #808000; font-weight: bold\">开始批量处理任务</span><span style=\"color: #808000; text-decoration-color: #808000\"> ─────────────────────────────────────────────────</span>\n",
       "</pre>\n"
      ],
      "text/plain": [
       "\u001b[33m──────────────────────────────────────────────── \u001b[0m\u001b[1;33m开始批量处理任务\u001b[0m\u001b[33m ─────────────────────────────────────────────────\u001b[0m\n"
      ]
     },
     "metadata": {},
     "output_type": "display_data"
    },
    {
     "data": {
      "text/html": [
       "<pre style=\"white-space:pre;overflow-x:auto;line-height:normal;font-family:Menlo,'DejaVu Sans Mono',consolas,'Courier New',monospace\">成功从 <span style=\"color: #008000; text-decoration-color: #008000\">'waymo_valid_list.txt'</span> 中读取 <span style=\"color: #008080; text-decoration-color: #008080; font-weight: bold\">202</span> 个segment名称。\n",
       "</pre>\n"
      ],
      "text/plain": [
       "成功从 \u001b[32m'waymo_valid_list.txt'\u001b[0m 中读取 \u001b[1;36m202\u001b[0m 个segment名称。\n"
      ]
     },
     "metadata": {},
     "output_type": "display_data"
    },
    {
     "data": {
      "text/html": [
       "<pre style=\"white-space:pre;overflow-x:auto;line-height:normal;font-family:Menlo,'DejaVu Sans Mono',consolas,'Courier New',monospace\">计划处理 <span style=\"color: #008080; text-decoration-color: #008080; font-weight: bold\">20</span> 个指定场景。\n",
       "</pre>\n"
      ],
      "text/plain": [
       "计划处理 \u001b[1;36m20\u001b[0m 个指定场景。\n"
      ]
     },
     "metadata": {},
     "output_type": "display_data"
    },
    {
     "data": {
      "text/html": [
       "<pre style=\"white-space:pre;overflow-x:auto;line-height:normal;font-family:Menlo,'DejaVu Sans Mono',consolas,'Courier New',monospace\"><span style=\"color: #000080; text-decoration-color: #000080\">─────────────── </span><span style=\"color: #000080; text-decoration-color: #000080; font-weight: bold\">正在处理: segment-1024360143612057520_3580_000_3600_000_with_camera_labels.tfrecord</span><span style=\"color: #000080; text-decoration-color: #000080\"> ───────────────</span>\n",
       "</pre>\n"
      ],
      "text/plain": [
       "\u001b[34m─────────────── \u001b[0m\u001b[1;34m正在处理: segment-1024360143612057520_3580_000_3600_000_with_camera_labels.tfrecord\u001b[0m\u001b[34m ───────────────\u001b[0m\n"
      ]
     },
     "metadata": {},
     "output_type": "display_data"
    },
    {
     "name": "stderr",
     "output_type": "stream",
     "text": [
      "处理帧: 100%|██████████| 199/199 [00:36<00:00,  5.38frame/s]\n",
      "处理帧: 100%|██████████| 199/199 [00:36<00:00,  5.38frame/s]\n"
     ]
    },
    {
     "data": {
      "text/html": [
       "<pre style=\"white-space:pre;overflow-x:auto;line-height:normal;font-family:Menlo,'DejaVu Sans Mono',consolas,'Courier New',monospace\"><span style=\"color: #000080; text-decoration-color: #000080\">─────────────── </span><span style=\"color: #000080; text-decoration-color: #000080; font-weight: bold\">正在处理: segment-11048712972908676520_545_000_565_000_with_camera_labels.tfrecord</span><span style=\"color: #000080; text-decoration-color: #000080\"> ────────────────</span>\n",
       "</pre>\n"
      ],
      "text/plain": [
       "\u001b[34m─────────────── \u001b[0m\u001b[1;34m正在处理: segment-11048712972908676520_545_000_565_000_with_camera_labels.tfrecord\u001b[0m\u001b[34m ────────────────\u001b[0m\n"
      ]
     },
     "metadata": {},
     "output_type": "display_data"
    },
    {
     "name": "stderr",
     "output_type": "stream",
     "text": [
      "处理帧: 100%|██████████| 199/199 [00:36<00:00,  5.52frame/s]\n",
      "处理帧: 100%|██████████| 199/199 [00:36<00:00,  5.52frame/s]\n"
     ]
    },
    {
     "data": {
      "text/html": [
       "<pre style=\"white-space:pre;overflow-x:auto;line-height:normal;font-family:Menlo,'DejaVu Sans Mono',consolas,'Courier New',monospace\"><span style=\"color: #000080; text-decoration-color: #000080\">────────────── </span><span style=\"color: #000080; text-decoration-color: #000080; font-weight: bold\">正在处理: segment-12831741023324393102_2673_230_2693_230_with_camera_labels.tfrecord</span><span style=\"color: #000080; text-decoration-color: #000080\"> ───────────────</span>\n",
       "</pre>\n"
      ],
      "text/plain": [
       "\u001b[34m────────────── \u001b[0m\u001b[1;34m正在处理: segment-12831741023324393102_2673_230_2693_230_with_camera_labels.tfrecord\u001b[0m\u001b[34m ───────────────\u001b[0m\n"
      ]
     },
     "metadata": {},
     "output_type": "display_data"
    },
    {
     "name": "stderr",
     "output_type": "stream",
     "text": [
      "处理帧: 100%|██████████| 198/198 [00:36<00:00,  5.49frame/s]\n",
      "处理帧: 100%|██████████| 198/198 [00:36<00:00,  5.49frame/s]\n"
     ]
    },
    {
     "data": {
      "text/html": [
       "<pre style=\"white-space:pre;overflow-x:auto;line-height:normal;font-family:Menlo,'DejaVu Sans Mono',consolas,'Courier New',monospace\"><span style=\"color: #000080; text-decoration-color: #000080\">────────────── </span><span style=\"color: #000080; text-decoration-color: #000080; font-weight: bold\">正在处理: segment-13982731384839979987_1680_000_1700_000_with_camera_labels.tfrecord</span><span style=\"color: #000080; text-decoration-color: #000080\"> ───────────────</span>\n",
       "</pre>\n"
      ],
      "text/plain": [
       "\u001b[34m────────────── \u001b[0m\u001b[1;34m正在处理: segment-13982731384839979987_1680_000_1700_000_with_camera_labels.tfrecord\u001b[0m\u001b[34m ───────────────\u001b[0m\n"
      ]
     },
     "metadata": {},
     "output_type": "display_data"
    },
    {
     "name": "stderr",
     "output_type": "stream",
     "text": [
      "处理帧: 100%|██████████| 199/199 [00:21<00:00,  9.24frame/s]\n",
      "处理帧: 100%|██████████| 199/199 [00:21<00:00,  9.24frame/s]\n"
     ]
    },
    {
     "data": {
      "text/html": [
       "<pre style=\"white-space:pre;overflow-x:auto;line-height:normal;font-family:Menlo,'DejaVu Sans Mono',consolas,'Courier New',monospace\"><span style=\"color: #000080; text-decoration-color: #000080\">────────────── </span><span style=\"color: #000080; text-decoration-color: #000080; font-weight: bold\">正在处理: segment-14081240615915270380_4399_000_4419_000_with_camera_labels.tfrecord</span><span style=\"color: #000080; text-decoration-color: #000080\"> ───────────────</span>\n",
       "</pre>\n"
      ],
      "text/plain": [
       "\u001b[34m────────────── \u001b[0m\u001b[1;34m正在处理: segment-14081240615915270380_4399_000_4419_000_with_camera_labels.tfrecord\u001b[0m\u001b[34m ───────────────\u001b[0m\n"
      ]
     },
     "metadata": {},
     "output_type": "display_data"
    },
    {
     "name": "stderr",
     "output_type": "stream",
     "text": [
      "处理帧: 100%|██████████| 198/198 [00:35<00:00,  5.58frame/s]\n",
      "处理帧: 100%|██████████| 198/198 [00:35<00:00,  5.58frame/s]\n"
     ]
    },
    {
     "data": {
      "text/html": [
       "<pre style=\"white-space:pre;overflow-x:auto;line-height:normal;font-family:Menlo,'DejaVu Sans Mono',consolas,'Courier New',monospace\"><span style=\"color: #000080; text-decoration-color: #000080\">────────────── </span><span style=\"color: #000080; text-decoration-color: #000080; font-weight: bold\">正在处理: segment-17694030326265859208_2340_000_2360_000_with_camera_labels.tfrecord</span><span style=\"color: #000080; text-decoration-color: #000080\"> ───────────────</span>\n",
       "</pre>\n"
      ],
      "text/plain": [
       "\u001b[34m────────────── \u001b[0m\u001b[1;34m正在处理: segment-17694030326265859208_2340_000_2360_000_with_camera_labels.tfrecord\u001b[0m\u001b[34m ───────────────\u001b[0m\n"
      ]
     },
     "metadata": {},
     "output_type": "display_data"
    },
    {
     "name": "stderr",
     "output_type": "stream",
     "text": [
      "处理帧: 100%|██████████| 192/192 [00:33<00:00,  5.68frame/s]\n",
      "处理帧: 100%|██████████| 192/192 [00:33<00:00,  5.68frame/s]\n"
     ]
    },
    {
     "data": {
      "text/html": [
       "<pre style=\"white-space:pre;overflow-x:auto;line-height:normal;font-family:Menlo,'DejaVu Sans Mono',consolas,'Courier New',monospace\"><span style=\"color: #000080; text-decoration-color: #000080\">────────────── </span><span style=\"color: #000080; text-decoration-color: #000080; font-weight: bold\">正在处理: segment-18024188333634186656_1566_600_1586_600_with_camera_labels.tfrecord</span><span style=\"color: #000080; text-decoration-color: #000080\"> ───────────────</span>\n",
       "</pre>\n"
      ],
      "text/plain": [
       "\u001b[34m────────────── \u001b[0m\u001b[1;34m正在处理: segment-18024188333634186656_1566_600_1586_600_with_camera_labels.tfrecord\u001b[0m\u001b[34m ───────────────\u001b[0m\n"
      ]
     },
     "metadata": {},
     "output_type": "display_data"
    },
    {
     "name": "stderr",
     "output_type": "stream",
     "text": [
      "处理帧: 100%|██████████| 198/198 [00:33<00:00,  5.92frame/s]\n",
      "处理帧: 100%|██████████| 198/198 [00:33<00:00,  5.92frame/s]\n"
     ]
    },
    {
     "data": {
      "text/html": [
       "<pre style=\"white-space:pre;overflow-x:auto;line-height:normal;font-family:Menlo,'DejaVu Sans Mono',consolas,'Courier New',monospace\"><span style=\"color: #000080; text-decoration-color: #000080\">─────────────── </span><span style=\"color: #000080; text-decoration-color: #000080; font-weight: bold\">正在处理: segment-2094681306939952000_2972_300_2992_300_with_camera_labels.tfrecord</span><span style=\"color: #000080; text-decoration-color: #000080\"> ───────────────</span>\n",
       "</pre>\n"
      ],
      "text/plain": [
       "\u001b[34m─────────────── \u001b[0m\u001b[1;34m正在处理: segment-2094681306939952000_2972_300_2992_300_with_camera_labels.tfrecord\u001b[0m\u001b[34m ───────────────\u001b[0m\n"
      ]
     },
     "metadata": {},
     "output_type": "display_data"
    },
    {
     "name": "stderr",
     "output_type": "stream",
     "text": [
      "处理帧: 100%|██████████| 199/199 [00:37<00:00,  5.35frame/s]\n",
      "处理帧: 100%|██████████| 199/199 [00:37<00:00,  5.35frame/s]\n"
     ]
    },
    {
     "data": {
      "text/html": [
       "<pre style=\"white-space:pre;overflow-x:auto;line-height:normal;font-family:Menlo,'DejaVu Sans Mono',consolas,'Courier New',monospace\"><span style=\"color: #000080; text-decoration-color: #000080\">─────────────── </span><span style=\"color: #000080; text-decoration-color: #000080; font-weight: bold\">正在处理: segment-4575389405178805994_4900_000_4920_000_with_camera_labels.tfrecord</span><span style=\"color: #000080; text-decoration-color: #000080\"> ───────────────</span>\n",
       "</pre>\n"
      ],
      "text/plain": [
       "\u001b[34m─────────────── \u001b[0m\u001b[1;34m正在处理: segment-4575389405178805994_4900_000_4920_000_with_camera_labels.tfrecord\u001b[0m\u001b[34m ───────────────\u001b[0m\n"
      ]
     },
     "metadata": {},
     "output_type": "display_data"
    },
    {
     "name": "stderr",
     "output_type": "stream",
     "text": [
      "处理帧: 100%|██████████| 199/199 [00:36<00:00,  5.47frame/s]\n",
      "处理帧: 100%|██████████| 199/199 [00:36<00:00,  5.47frame/s]\n"
     ]
    },
    {
     "data": {
      "text/html": [
       "<pre style=\"white-space:pre;overflow-x:auto;line-height:normal;font-family:Menlo,'DejaVu Sans Mono',consolas,'Courier New',monospace\"><span style=\"color: #000080; text-decoration-color: #000080\">──────────────── </span><span style=\"color: #000080; text-decoration-color: #000080; font-weight: bold\">正在处理: segment-4759225533437988401_800_000_820_000_with_camera_labels.tfrecord</span><span style=\"color: #000080; text-decoration-color: #000080\"> ────────────────</span>\n",
       "</pre>\n"
      ],
      "text/plain": [
       "\u001b[34m──────────────── \u001b[0m\u001b[1;34m正在处理: segment-4759225533437988401_800_000_820_000_with_camera_labels.tfrecord\u001b[0m\u001b[34m ────────────────\u001b[0m\n"
      ]
     },
     "metadata": {},
     "output_type": "display_data"
    },
    {
     "name": "stderr",
     "output_type": "stream",
     "text": [
      "处理帧: 100%|██████████| 198/198 [00:35<00:00,  5.56frame/s]\n",
      "处理帧: 100%|██████████| 198/198 [00:35<00:00,  5.56frame/s]\n"
     ]
    },
    {
     "data": {
      "text/html": [
       "<pre style=\"white-space:pre;overflow-x:auto;line-height:normal;font-family:Menlo,'DejaVu Sans Mono',consolas,'Courier New',monospace\"><span style=\"color: #000080; text-decoration-color: #000080\">─────────────── </span><span style=\"color: #000080; text-decoration-color: #000080; font-weight: bold\">正在处理: segment-5372281728627437618_2005_000_2025_000_with_camera_labels.tfrecord</span><span style=\"color: #000080; text-decoration-color: #000080\"> ───────────────</span>\n",
       "</pre>\n"
      ],
      "text/plain": [
       "\u001b[34m─────────────── \u001b[0m\u001b[1;34m正在处理: segment-5372281728627437618_2005_000_2025_000_with_camera_labels.tfrecord\u001b[0m\u001b[34m ───────────────\u001b[0m\n"
      ]
     },
     "metadata": {},
     "output_type": "display_data"
    },
    {
     "name": "stderr",
     "output_type": "stream",
     "text": [
      "处理帧: 100%|██████████| 198/198 [00:34<00:00,  5.80frame/s]\n",
      "处理帧: 100%|██████████| 198/198 [00:34<00:00,  5.80frame/s]\n"
     ]
    },
    {
     "data": {
      "text/html": [
       "<pre style=\"white-space:pre;overflow-x:auto;line-height:normal;font-family:Menlo,'DejaVu Sans Mono',consolas,'Courier New',monospace\"><span style=\"color: #000080; text-decoration-color: #000080\">──────────────── </span><span style=\"color: #000080; text-decoration-color: #000080; font-weight: bold\">正在处理: segment-5847910688643719375_180_000_200_000_with_camera_labels.tfrecord</span><span style=\"color: #000080; text-decoration-color: #000080\"> ────────────────</span>\n",
       "</pre>\n"
      ],
      "text/plain": [
       "\u001b[34m──────────────── \u001b[0m\u001b[1;34m正在处理: segment-5847910688643719375_180_000_200_000_with_camera_labels.tfrecord\u001b[0m\u001b[34m ────────────────\u001b[0m\n"
      ]
     },
     "metadata": {},
     "output_type": "display_data"
    },
    {
     "name": "stderr",
     "output_type": "stream",
     "text": [
      "处理帧: 100%|██████████| 198/198 [00:35<00:00,  5.55frame/s]\n",
      "处理帧: 100%|██████████| 198/198 [00:35<00:00,  5.55frame/s]\n"
     ]
    },
    {
     "data": {
      "text/html": [
       "<pre style=\"white-space:pre;overflow-x:auto;line-height:normal;font-family:Menlo,'DejaVu Sans Mono',consolas,'Courier New',monospace\"><span style=\"color: #000080; text-decoration-color: #000080\">─────────────── </span><span style=\"color: #000080; text-decoration-color: #000080; font-weight: bold\">正在处理: segment-6680764940003341232_2260_000_2280_000_with_camera_labels.tfrecord</span><span style=\"color: #000080; text-decoration-color: #000080\"> ───────────────</span>\n",
       "</pre>\n"
      ],
      "text/plain": [
       "\u001b[34m─────────────── \u001b[0m\u001b[1;34m正在处理: segment-6680764940003341232_2260_000_2280_000_with_camera_labels.tfrecord\u001b[0m\u001b[34m ───────────────\u001b[0m\n"
      ]
     },
     "metadata": {},
     "output_type": "display_data"
    },
    {
     "name": "stderr",
     "output_type": "stream",
     "text": [
      "处理帧: 100%|██████████| 198/198 [00:36<00:00,  5.37frame/s]\n",
      "处理帧: 100%|██████████| 198/198 [00:36<00:00,  5.37frame/s]\n"
     ]
    },
    {
     "data": {
      "text/html": [
       "<pre style=\"white-space:pre;overflow-x:auto;line-height:normal;font-family:Menlo,'DejaVu Sans Mono',consolas,'Courier New',monospace\"><span style=\"color: #000080; text-decoration-color: #000080\">─────────────── </span><span style=\"color: #000080; text-decoration-color: #000080; font-weight: bold\">正在处理: segment-7119831293178745002_1094_720_1114_720_with_camera_labels.tfrecord</span><span style=\"color: #000080; text-decoration-color: #000080\"> ───────────────</span>\n",
       "</pre>\n"
      ],
      "text/plain": [
       "\u001b[34m─────────────── \u001b[0m\u001b[1;34m正在处理: segment-7119831293178745002_1094_720_1114_720_with_camera_labels.tfrecord\u001b[0m\u001b[34m ───────────────\u001b[0m\n"
      ]
     },
     "metadata": {},
     "output_type": "display_data"
    },
    {
     "name": "stderr",
     "output_type": "stream",
     "text": [
      "处理帧: 100%|██████████| 198/198 [00:35<00:00,  5.52frame/s]\n",
      "处理帧: 100%|██████████| 198/198 [00:35<00:00,  5.52frame/s]\n"
     ]
    },
    {
     "data": {
      "text/html": [
       "<pre style=\"white-space:pre;overflow-x:auto;line-height:normal;font-family:Menlo,'DejaVu Sans Mono',consolas,'Courier New',monospace\"><span style=\"color: #000080; text-decoration-color: #000080\">──────────────── </span><span style=\"color: #000080; text-decoration-color: #000080; font-weight: bold\">正在处理: segment-7932945205197754811_780_000_800_000_with_camera_labels.tfrecord</span><span style=\"color: #000080; text-decoration-color: #000080\"> ────────────────</span>\n",
       "</pre>\n"
      ],
      "text/plain": [
       "\u001b[34m──────────────── \u001b[0m\u001b[1;34m正在处理: segment-7932945205197754811_780_000_800_000_with_camera_labels.tfrecord\u001b[0m\u001b[34m ────────────────\u001b[0m\n"
      ]
     },
     "metadata": {},
     "output_type": "display_data"
    },
    {
     "name": "stderr",
     "output_type": "stream",
     "text": [
      "处理帧: 100%|██████████| 198/198 [00:36<00:00,  5.46frame/s]\n",
      "处理帧: 100%|██████████| 198/198 [00:36<00:00,  5.46frame/s]\n"
     ]
    },
    {
     "data": {
      "text/html": [
       "<pre style=\"white-space:pre;overflow-x:auto;line-height:normal;font-family:Menlo,'DejaVu Sans Mono',consolas,'Courier New',monospace\"><span style=\"color: #000080; text-decoration-color: #000080\">─────────────── </span><span style=\"color: #000080; text-decoration-color: #000080; font-weight: bold\">正在处理: segment-8137195482049459160_3100_000_3120_000_with_camera_labels.tfrecord</span><span style=\"color: #000080; text-decoration-color: #000080\"> ───────────────</span>\n",
       "</pre>\n"
      ],
      "text/plain": [
       "\u001b[34m─────────────── \u001b[0m\u001b[1;34m正在处理: segment-8137195482049459160_3100_000_3120_000_with_camera_labels.tfrecord\u001b[0m\u001b[34m ───────────────\u001b[0m\n"
      ]
     },
     "metadata": {},
     "output_type": "display_data"
    },
    {
     "name": "stderr",
     "output_type": "stream",
     "text": [
      "处理帧: 100%|██████████| 199/199 [00:34<00:00,  5.72frame/s]\n",
      "处理帧: 100%|██████████| 199/199 [00:34<00:00,  5.72frame/s]\n"
     ]
    },
    {
     "data": {
      "text/html": [
       "<pre style=\"white-space:pre;overflow-x:auto;line-height:normal;font-family:Menlo,'DejaVu Sans Mono',consolas,'Courier New',monospace\"><span style=\"color: #000080; text-decoration-color: #000080\">─────────────── </span><span style=\"color: #000080; text-decoration-color: #000080; font-weight: bold\">正在处理: segment-8331804655557290264_4351_740_4371_740_with_camera_labels.tfrecord</span><span style=\"color: #000080; text-decoration-color: #000080\"> ───────────────</span>\n",
       "</pre>\n"
      ],
      "text/plain": [
       "\u001b[34m─────────────── \u001b[0m\u001b[1;34m正在处理: segment-8331804655557290264_4351_740_4371_740_with_camera_labels.tfrecord\u001b[0m\u001b[34m ───────────────\u001b[0m\n"
      ]
     },
     "metadata": {},
     "output_type": "display_data"
    },
    {
     "name": "stderr",
     "output_type": "stream",
     "text": [
      "处理帧: 100%|██████████| 199/199 [00:36<00:00,  5.47frame/s]\n",
      "处理帧: 100%|██████████| 199/199 [00:36<00:00,  5.47frame/s]\n"
     ]
    },
    {
     "data": {
      "text/html": [
       "<pre style=\"white-space:pre;overflow-x:auto;line-height:normal;font-family:Menlo,'DejaVu Sans Mono',consolas,'Courier New',monospace\"><span style=\"color: #000080; text-decoration-color: #000080\">─────────────── </span><span style=\"color: #000080; text-decoration-color: #000080; font-weight: bold\">正在处理: segment-8956556778987472864_3404_790_3424_790_with_camera_labels.tfrecord</span><span style=\"color: #000080; text-decoration-color: #000080\"> ───────────────</span>\n",
       "</pre>\n"
      ],
      "text/plain": [
       "\u001b[34m─────────────── \u001b[0m\u001b[1;34m正在处理: segment-8956556778987472864_3404_790_3424_790_with_camera_labels.tfrecord\u001b[0m\u001b[34m ───────────────\u001b[0m\n"
      ]
     },
     "metadata": {},
     "output_type": "display_data"
    },
    {
     "name": "stderr",
     "output_type": "stream",
     "text": [
      "处理帧: 100%|██████████| 197/197 [00:34<00:00,  5.70frame/s]\n",
      "处理帧: 100%|██████████| 197/197 [00:34<00:00,  5.70frame/s]\n"
     ]
    },
    {
     "data": {
      "text/html": [
       "<pre style=\"white-space:pre;overflow-x:auto;line-height:normal;font-family:Menlo,'DejaVu Sans Mono',consolas,'Courier New',monospace\"><span style=\"color: #000080; text-decoration-color: #000080\">─────────────── </span><span style=\"color: #000080; text-decoration-color: #000080; font-weight: bold\">正在处理: segment-9243656068381062947_1297_428_1317_428_with_camera_labels.tfrecord</span><span style=\"color: #000080; text-decoration-color: #000080\"> ───────────────</span>\n",
       "</pre>\n"
      ],
      "text/plain": [
       "\u001b[34m─────────────── \u001b[0m\u001b[1;34m正在处理: segment-9243656068381062947_1297_428_1317_428_with_camera_labels.tfrecord\u001b[0m\u001b[34m ───────────────\u001b[0m\n"
      ]
     },
     "metadata": {},
     "output_type": "display_data"
    },
    {
     "name": "stderr",
     "output_type": "stream",
     "text": [
      "处理帧: 100%|██████████| 198/198 [00:35<00:00,  5.52frame/s]\n",
      "处理帧: 100%|██████████| 198/198 [00:35<00:00,  5.52frame/s]\n"
     ]
    },
    {
     "data": {
      "text/html": [
       "<pre style=\"white-space:pre;overflow-x:auto;line-height:normal;font-family:Menlo,'DejaVu Sans Mono',consolas,'Courier New',monospace\"><span style=\"color: #000080; text-decoration-color: #000080\">─────────────── </span><span style=\"color: #000080; text-decoration-color: #000080; font-weight: bold\">正在处理: segment-933621182106051783_4160_000_4180_000_with_camera_labels.tfrecord</span><span style=\"color: #000080; text-decoration-color: #000080\"> ────────────────</span>\n",
       "</pre>\n"
      ],
      "text/plain": [
       "\u001b[34m─────────────── \u001b[0m\u001b[1;34m正在处理: segment-933621182106051783_4160_000_4180_000_with_camera_labels.tfrecord\u001b[0m\u001b[34m ────────────────\u001b[0m\n"
      ]
     },
     "metadata": {},
     "output_type": "display_data"
    },
    {
     "name": "stderr",
     "output_type": "stream",
     "text": [
      "处理帧: 100%|██████████| 198/198 [00:34<00:00,  5.75frame/s]\n",
      "处理帧: 100%|██████████| 198/198 [00:34<00:00,  5.75frame/s]\n"
     ]
    },
    {
     "data": {
      "text/html": [
       "<pre style=\"white-space:pre;overflow-x:auto;line-height:normal;font-family:Menlo,'DejaVu Sans Mono',consolas,'Courier New',monospace\"><span style=\"color: #808000; text-decoration-color: #808000\">────────────────────────────────────────────── </span><span style=\"color: #808000; text-decoration-color: #808000; font-weight: bold\">所有指定任务处理完毕</span><span style=\"color: #808000; text-decoration-color: #808000\"> ───────────────────────────────────────────────</span>\n",
       "</pre>\n"
      ],
      "text/plain": [
       "\u001b[33m────────────────────────────────────────────── \u001b[0m\u001b[1;33m所有指定任务处理完毕\u001b[0m\u001b[33m ───────────────────────────────────────────────\u001b[0m\n"
      ]
     },
     "metadata": {},
     "output_type": "display_data"
    }
   ],
   "source": [
    "console = Console()\n",
    "\n",
    "# --- 1. 设置您的输入参数 ---\n",
    "# 原始 .tfrecord 文件所在的根目录\n",
    "root_dir = \"/home/datuwsl/Research/SYSU/data/Waymo_NOTR/data/waymo/raw/validation\"\n",
    "\n",
    "# 希望保存处理后数据的根目录\n",
    "save_dir = \"/home/datuwsl/Research/SYSU/data/Waymo_NOTR/data/waymo/processed/validation\"\n",
    "\n",
    "# 包含segment名称列表的txt文件\n",
    "segment_file = \"/home/datuwsl/Research/SYSU/data/Waymo_NOTR/data/waymo_valid_list.txt\"\n",
    "\n",
    "# 您希望处理的场景索引 (0-based)\n",
    "# 这是您提到的验证集有数据的20个索引\n",
    "scene_ids = [1, 12, 30, 44, 46, 92, 98, 108, 140, 143, 150, 155, 165, 167, 174, 178, 180, 188, 195, 197]\n",
    "\n",
    "# --- 2. 开始执行批量处理 ---\n",
    "console.print(Rule(\"[bold yellow]开始批量处理任务\", style=\"yellow\"))\n",
    "\n",
    "try:\n",
    "    # 从txt文件中读取所有的segment名称\n",
    "    with open(segment_file, 'r') as f:\n",
    "        # 使用 .strip() 清除每行末尾的换行符，并过滤掉空行\n",
    "        all_segments = [line.strip() for line in f if line.strip()]\n",
    "\n",
    "    console.print(f\"成功从 '{os.path.basename(segment_file)}' 中读取 {len(all_segments)} 个segment名称。\")\n",
    "    console.print(f\"计划处理 {len(scene_ids)} 个指定场景。\")\n",
    "\n",
    "    # 遍历您指定的场景索引\n",
    "    for scene_id in scene_ids:\n",
    "        # 检查索引是否有效\n",
    "        if scene_id >= len(all_segments):\n",
    "            console.print(f\"[bold red]警告: 索引 {scene_id} 超出文件列表范围 (共 {len(all_segments)} 行)，已跳过。[/bold red]\")\n",
    "            continue\n",
    "        \n",
    "        # 获取对应的segment文件名\n",
    "        segment_name = all_segments[scene_id]\n",
    "        \n",
    "        # 构建完整的输入tfrecord文件路径\n",
    "        input_tfrecord_path = os.path.join(root_dir, f\"{segment_name}.tfrecord\")\n",
    "        \n",
    "        # 构建输出目录路径，使用三位补全的scene_id\n",
    "        # 例如: scene_id=6 -> \"006\", scene_id=26 -> \"026\"\n",
    "        output_segment_dir = os.path.join(save_dir, f\"{scene_id:03d}\")\n",
    "        \n",
    "        # 检查输入文件是否存在，防止因文件缺失而中断\n",
    "        if not os.path.exists(input_tfrecord_path):\n",
    "            console.print(f\"[bold red]警告: 输入文件不存在: {input_tfrecord_path}，已跳过。[/bold red]\")\n",
    "            console.print()\n",
    "            continue\n",
    "            \n",
    "        # 调用核心函数进行处理\n",
    "        process_waymo_tfrecord(\n",
    "            tfrecord_path=input_tfrecord_path, \n",
    "            output_dir=output_segment_dir,\n",
    "            save_visualization=True # 如果不需要可视化图，可设为False\n",
    "        )\n",
    "\n",
    "except FileNotFoundError:\n",
    "    console.print(f\"[bold red]错误: Segment列表文件未找到: {segment_file}[/bold red]\")\n",
    "except Exception as e:\n",
    "    console.print(f\"[bold red]处理过程中发生未知错误: {e}[/bold red]\")\n",
    "\n",
    "console.print(Rule(\"[bold yellow]所有指定任务处理完毕\", style=\"yellow\"))"
   ]
  },
  {
   "cell_type": "code",
   "execution_count": 26,
   "id": "b5dab66f",
   "metadata": {},
   "outputs": [
    {
     "name": "stdout",
     "output_type": "stream",
     "text": [
      "图像 shape: (1280, 1920)\n",
      "数据类型: uint8\n",
      "唯一类别 ID: [ 2  3  4  5  9 14 15 17 18 19 20 21 22 23 24 25 26 27 28]\n"
     ]
    }
   ],
   "source": [
    "from PIL import Image\n",
    "import numpy as np\n",
    "\n",
    "# 读取 label PNG\n",
    "label_path = \"/home/datuwsl/Research/SYSU/data/Waymo_NOTR/datasets/pvps/processed_data/validation/001/labels/1553735853462203_0.png\"\n",
    "label_img = Image.open(label_path)\n",
    "\n",
    "# 转 numpy array\n",
    "label_array = np.array(label_img)\n",
    "\n",
    "print(\"图像 shape:\", label_array.shape)\n",
    "print(\"数据类型:\", label_array.dtype)\n",
    "print(\"唯一类别 ID:\", np.unique(label_array))\n"
   ]
  }
 ],
 "metadata": {
  "kernelspec": {
   "display_name": "pvps",
   "language": "python",
   "name": "python3"
  },
  "language_info": {
   "codemirror_mode": {
    "name": "ipython",
    "version": 3
   },
   "file_extension": ".py",
   "mimetype": "text/x-python",
   "name": "python",
   "nbconvert_exporter": "python",
   "pygments_lexer": "ipython3",
   "version": "3.9.23"
  }
 },
 "nbformat": 4,
 "nbformat_minor": 5
}
